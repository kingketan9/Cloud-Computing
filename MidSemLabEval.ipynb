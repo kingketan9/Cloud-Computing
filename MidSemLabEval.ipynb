{
  "nbformat": 4,
  "nbformat_minor": 0,
  "metadata": {
    "colab": {
      "provenance": [],
      "authorship_tag": "ABX9TyPGm8OYpvjLBhbuoMkVk4cx",
      "include_colab_link": true
    },
    "kernelspec": {
      "name": "python3",
      "display_name": "Python 3"
    },
    "language_info": {
      "name": "python"
    }
  },
  "cells": [
    {
      "cell_type": "markdown",
      "metadata": {
        "id": "view-in-github",
        "colab_type": "text"
      },
      "source": [
        "<a href=\"https://colab.research.google.com/github/kingketan9/CloudComputingLabs/blob/main/MidSemLabEval.ipynb\" target=\"_parent\"><img src=\"https://colab.research.google.com/assets/colab-badge.svg\" alt=\"Open In Colab\"/></a>"
      ]
    },
    {
      "cell_type": "markdown",
      "source": [
        "Consider the following RDD's\n",
        "a = ['orange' , 'mango', 'apple' , 'grapes' , 'orange']\n",
        "b = ['green' , 'red' , 'yellow']\n",
        "\n",
        "print the following\n",
        "result = ['orange' , 'mango', 'apple' , 'grapes' , 'orange' , 'green' , 'red' , yellow ]"
      ],
      "metadata": {
        "id": "e2ochxug2YYF"
      }
    },
    {
      "cell_type": "code",
      "source": [
        "!apt-get install openjdk-8-jdk-headless -qq > /dev/null ### Installing Java\n",
        "\n",
        "!wget -q http://archive.apache.org/dist/spark/spark-3.1.1/spark-3.1.1-bin-hadoop3.2.tgz #### Installing Spark and Hadoop on the worker node\n",
        "!tar xf spark-3.1.1-bin-hadoop3.2.tgz\n",
        "!pip install -q findspark\n",
        "\n",
        "\n",
        "import os\n",
        "os.environ[\"JAVA_HOME\"] = \"/usr/lib/jvm/java-8-openjdk-amd64\"\n",
        "os.environ[\"SPARK_HOME\"] = \"/content/spark-3.1.1-bin-hadoop3.2\"\n",
        "\n",
        "import findspark\n",
        "findspark.init()\n",
        "from pyspark.sql import SparkSession\n",
        "spark = SparkSession.builder.master(\"local[*]\").getOrCreate()\n",
        "spark.conf.set(\"spark.sql.repl.eagerEval.enabled\", True) # Property used to format output tables better\n",
        "spark #### Creating a Sparksession\n",
        "\n",
        "\n",
        "sc = spark.sparkContext #### Defining the gateway to the spark infrastructure"
      ],
      "metadata": {
        "id": "fN-gJEii4nPd"
      },
      "execution_count": 2,
      "outputs": []
    },
    {
      "cell_type": "code",
      "execution_count": 42,
      "metadata": {
        "colab": {
          "base_uri": "https://localhost:8080/"
        },
        "id": "-RZsQqOq2Xc9",
        "outputId": "088ad3e3-0057-472c-8cf5-8f1b0659a30f"
      },
      "outputs": [
        {
          "output_type": "stream",
          "name": "stdout",
          "text": [
            "{'apple', 'green', 'yellow', 'red', 'mango', 'orange', 'grapes'}\n"
          ]
        }
      ],
      "source": [
        "a = ['orange', 'mango', 'apple', 'grapes', 'orange']\n",
        "b = ['green', 'red', 'yellow']\n",
        "\n",
        "result = sc.parallelize(a).union(sc.parallelize(b)).collect()\n",
        "print(set(result))"
      ]
    },
    {
      "cell_type": "markdown",
      "source": [
        "Given the three RDD's\n",
        "w = [('a' ,4), ('b',5)]\n",
        "x = [('b' , 4) ,('c',9]\n",
        "y = [('c',3),('a',2)]\n",
        "\n",
        "print the result as\n",
        "ans = [('c',[9,3]) , ('b' ,[5,4])]"
      ],
      "metadata": {
        "id": "ziMs36Dn6fxn"
      }
    },
    {
      "cell_type": "code",
      "source": [
        "w = sc.parallelize([('a', 4), ('b', 5)])\n",
        "x = sc.parallelize([('b', 4), ('c', 9)])\n",
        "y = sc.parallelize([('c', 3), ('a', 2)])\n",
        "\n",
        "merged = w.union(x).union(y)\n",
        "\n",
        "filtered = merged.filter(lambda x: x[0] != 'a')\n",
        "\n",
        "aggregated = filtered.reduceByKey(lambda x, y: [x, y])\n",
        "\n",
        "result = aggregated.map(lambda x: (x[0], [x[1][0], x[1][1]])).collect()\n",
        "\n",
        "print(result)"
      ],
      "metadata": {
        "colab": {
          "base_uri": "https://localhost:8080/"
        },
        "id": "BtesnFav7Wjy",
        "outputId": "1dc239eb-9b60-49c3-b186-866cd82aece5"
      },
      "execution_count": 6,
      "outputs": [
        {
          "output_type": "stream",
          "name": "stdout",
          "text": [
            "[('c', [9, 3]), ('b', [5, 4])]\n"
          ]
        }
      ]
    },
    {
      "cell_type": "markdown",
      "source": [
        "Consider the following RDD = [2,3,4,5]\n",
        "\n",
        "print the following\n",
        "ans1 = [2,4,3,9,4,16,5,25]\n",
        "\n",
        "ans2 = [2,4,16]"
      ],
      "metadata": {
        "id": "N_6nKWyW8UV_"
      }
    },
    {
      "cell_type": "code",
      "source": [
        "RDD = [2, 3, 4, 5]\n",
        "RDD = sc.parallelize(RDD)\n",
        "ans1 = RDD.map(lambda x: [x, x**2]).reduce(lambda a, b: a + b)\n",
        "print(ans1)"
      ],
      "metadata": {
        "colab": {
          "base_uri": "https://localhost:8080/"
        },
        "id": "yTYZjDF59D9J",
        "outputId": "0af16c80-92fa-46b0-c80f-286686e33a09"
      },
      "execution_count": 39,
      "outputs": [
        {
          "output_type": "stream",
          "name": "stdout",
          "text": [
            "[2, 4, 3, 9, 4, 16, 5, 25]\n"
          ]
        }
      ]
    },
    {
      "cell_type": "code",
      "source": [
        "ans1 = sc.parallelize(ans1)\n",
        "ans2 = ans1.filter(lambda x: x % 2 == 0).collect()\n",
        "ans2 = set(ans2)\n",
        "print(ans2)"
      ],
      "metadata": {
        "colab": {
          "base_uri": "https://localhost:8080/"
        },
        "id": "doS0rBUB-3Ii",
        "outputId": "d112cb6b-c623-4226-d2fa-fba31b3129e0"
      },
      "execution_count": 40,
      "outputs": [
        {
          "output_type": "stream",
          "name": "stdout",
          "text": [
            "{16, 2, 4}\n"
          ]
        }
      ]
    }
  ]
}
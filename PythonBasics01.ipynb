{
  "nbformat": 4,
  "nbformat_minor": 0,
  "metadata": {
    "colab": {
      "provenance": [],
      "authorship_tag": "ABX9TyNkrQJqcyqU8uRVcTBXEyAc",
      "include_colab_link": true
    },
    "kernelspec": {
      "name": "python3",
      "display_name": "Python 3"
    },
    "language_info": {
      "name": "python"
    }
  },
  "cells": [
    {
      "cell_type": "markdown",
      "metadata": {
        "id": "view-in-github",
        "colab_type": "text"
      },
      "source": [
        "<a href=\"https://colab.research.google.com/github/kingketan9/Cloud-Computing/blob/main/PythonBasics01.ipynb\" target=\"_parent\"><img src=\"https://colab.research.google.com/assets/colab-badge.svg\" alt=\"Open In Colab\"/></a>"
      ]
    },
    {
      "cell_type": "markdown",
      "source": [
        "Using a Conditional , write a relu function"
      ],
      "metadata": {
        "id": "cZaENzGw4WbO"
      }
    },
    {
      "cell_type": "code",
      "execution_count": 1,
      "metadata": {
        "id": "2ybNxuMq4BAV"
      },
      "outputs": [],
      "source": [
        "x = int(input(\"Enter your nuber: \"))"
      ]
    },
    {
      "cell_type": "code",
      "source": [
        "if x >= 0:\n",
        "  print(x)\n",
        "else:\n",
        "  print(0)"
      ],
      "metadata": {
        "colab": {
          "base_uri": "https://localhost:8080/"
        },
        "id": "DZ_seOZR4UCO",
        "outputId": "6d2a6d53-0075-47a3-8f52-59384ae66f9a"
      },
      "execution_count": 2,
      "outputs": [
        {
          "output_type": "stream",
          "name": "stdout",
          "text": [
            "7\n"
          ]
        }
      ]
    },
    {
      "cell_type": "markdown",
      "source": [
        "Write a program in python that accepts a word from user and reverses it"
      ],
      "metadata": {
        "id": "u9ImYikz4-xN"
      }
    },
    {
      "cell_type": "code",
      "source": [
        "a = input(\"Enter your word: \")\n"
      ],
      "metadata": {
        "colab": {
          "base_uri": "https://localhost:8080/"
        },
        "id": "JNtsQI3M4uZO",
        "outputId": "c38536ea-1f3e-4aca-c305-56d21e1eb5ad"
      },
      "execution_count": 3,
      "outputs": [
        {
          "name": "stdout",
          "output_type": "stream",
          "text": [
            "Enter your word: ta\n"
          ]
        }
      ]
    },
    {
      "cell_type": "code",
      "source": [
        "print(a[::-1])"
      ],
      "metadata": {
        "colab": {
          "base_uri": "https://localhost:8080/"
        },
        "id": "6xxgOrYv5Tnk",
        "outputId": "d6f73f1b-2865-4420-a72b-7f0bde5faecc"
      },
      "execution_count": 6,
      "outputs": [
        {
          "output_type": "stream",
          "name": "stdout",
          "text": [
            "at\n"
          ]
        }
      ]
    },
    {
      "cell_type": "markdown",
      "source": [
        "Write a python code to find those numbers which are divisibe by 7 and multiple of 5 between 1500 & 2700 (both included)"
      ],
      "metadata": {
        "id": "XkJRJN3S5ilY"
      }
    },
    {
      "cell_type": "code",
      "source": [
        "l=[]\n",
        "for x in range(1500, 2700):\n",
        "    if (x%7==0) and (x%5==0):\n",
        "        l.append(str(x))\n",
        "print (','.join(l))"
      ],
      "metadata": {
        "colab": {
          "base_uri": "https://localhost:8080/"
        },
        "id": "EhgeARUz5YXv",
        "outputId": "14acdf93-68a7-4f9e-ab7d-4b5785eeed0f"
      },
      "execution_count": 10,
      "outputs": [
        {
          "output_type": "stream",
          "name": "stdout",
          "text": [
            "1505,1540,1575,1610,1645,1680,1715,1750,1785,1820,1855,1890,1925,1960,1995,2030,2065,2100,2135,2170,2205,2240,2275,2310,2345,2380,2415,2450,2485,2520,2555,2590,2625,2660,2695\n"
          ]
        }
      ]
    },
    {
      "cell_type": "code",
      "source": [],
      "metadata": {
        "id": "XzyWLS0Y6ty9"
      },
      "execution_count": null,
      "outputs": []
    }
  ]
}
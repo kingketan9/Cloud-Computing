{
  "nbformat": 4,
  "nbformat_minor": 0,
  "metadata": {
    "colab": {
      "provenance": [],
      "include_colab_link": true
    },
    "kernelspec": {
      "name": "python3",
      "display_name": "Python 3"
    },
    "language_info": {
      "name": "python"
    }
  },
  "cells": [
    {
      "cell_type": "markdown",
      "metadata": {
        "id": "view-in-github",
        "colab_type": "text"
      },
      "source": [
        "<a href=\"https://colab.research.google.com/github/kingketan9/CloudComputingLabs/blob/main/Ass5.ipynb\" target=\"_parent\"><img src=\"https://colab.research.google.com/assets/colab-badge.svg\" alt=\"Open In Colab\"/></a>"
      ]
    },
    {
      "cell_type": "code",
      "execution_count": null,
      "metadata": {
        "id": "EuKgNFh8MVQd"
      },
      "outputs": [],
      "source": [
        "!apt-get install openjdk-8-jdk-headless -qq > /dev/null ### Installing Java"
      ]
    },
    {
      "cell_type": "code",
      "source": [
        "!wget -q http://archive.apache.org/dist/spark/spark-3.1.1/spark-3.1.1-bin-hadoop3.2.tgz #### Installing Spark and Hadoop on the worker node\n",
        "!tar xf spark-3.1.1-bin-hadoop3.2.tgz\n",
        "!pip install -q findspark"
      ],
      "metadata": {
        "id": "cWrLB7aEMuvt"
      },
      "execution_count": null,
      "outputs": []
    },
    {
      "cell_type": "code",
      "source": [
        "import os\n",
        "os.environ[\"JAVA_HOME\"] = \"/usr/lib/jvm/java-8-openjdk-amd64\"\n",
        "os.environ[\"SPARK_HOME\"] = \"/content/spark-3.1.1-bin-hadoop3.2\"\n",
        "\n",
        "import findspark\n",
        "findspark.init()\n",
        "from pyspark.sql import SparkSession\n",
        "spark = SparkSession.builder.master(\"local[*]\").getOrCreate()\n",
        "spark.conf.set(\"spark.sql.repl.eagerEval.enabled\", True) # Property used to format output tables better\n",
        "spark #### Creating a Sparksession"
      ],
      "metadata": {
        "id": "p2IrWX3HMxay",
        "colab": {
          "base_uri": "https://localhost:8080/",
          "height": 219
        },
        "outputId": "a8d394c4-7521-40be-c92c-137b40bb4f59"
      },
      "execution_count": null,
      "outputs": [
        {
          "output_type": "execute_result",
          "data": {
            "text/plain": [
              "<pyspark.sql.session.SparkSession at 0x7f3c9434cb50>"
            ],
            "text/html": [
              "\n",
              "            <div>\n",
              "                <p><b>SparkSession - in-memory</b></p>\n",
              "                \n",
              "        <div>\n",
              "            <p><b>SparkContext</b></p>\n",
              "\n",
              "            <p><a href=\"http://b1884bee58b2:4040\">Spark UI</a></p>\n",
              "\n",
              "            <dl>\n",
              "              <dt>Version</dt>\n",
              "                <dd><code>v3.1.1</code></dd>\n",
              "              <dt>Master</dt>\n",
              "                <dd><code>local[*]</code></dd>\n",
              "              <dt>AppName</dt>\n",
              "                <dd><code>pyspark-shell</code></dd>\n",
              "            </dl>\n",
              "        </div>\n",
              "        \n",
              "            </div>\n",
              "        "
            ]
          },
          "metadata": {},
          "execution_count": 84
        }
      ]
    },
    {
      "cell_type": "code",
      "source": [
        "!wget https://jacobceles.github.io/knowledge_repo/colab_and_pyspark/cars.csv # Download the data"
      ],
      "metadata": {
        "id": "17EBXXUCM2Ru",
        "colab": {
          "base_uri": "https://localhost:8080/"
        },
        "outputId": "ce12cfe7-80ce-4507-ea80-01a538508201"
      },
      "execution_count": null,
      "outputs": [
        {
          "output_type": "stream",
          "name": "stdout",
          "text": [
            "--2023-02-24 10:41:46--  https://jacobceles.github.io/knowledge_repo/colab_and_pyspark/cars.csv\n",
            "Resolving jacobceles.github.io (jacobceles.github.io)... 185.199.108.153, 185.199.109.153, 185.199.110.153, ...\n",
            "Connecting to jacobceles.github.io (jacobceles.github.io)|185.199.108.153|:443... connected.\n",
            "HTTP request sent, awaiting response... 301 Moved Permanently\n",
            "Location: https://jacobcelestine.com/knowledge_repo/colab_and_pyspark/cars.csv [following]\n",
            "--2023-02-24 10:41:46--  https://jacobcelestine.com/knowledge_repo/colab_and_pyspark/cars.csv\n",
            "Resolving jacobcelestine.com (jacobcelestine.com)... 185.199.108.153, 185.199.109.153, 185.199.110.153, ...\n",
            "Connecting to jacobcelestine.com (jacobcelestine.com)|185.199.108.153|:443... connected.\n",
            "HTTP request sent, awaiting response... 200 OK\n",
            "Length: 22608 (22K) [text/csv]\n",
            "Saving to: ‘cars.csv.1’\n",
            "\n",
            "cars.csv.1          100%[===================>]  22.08K  --.-KB/s    in 0.002s  \n",
            "\n",
            "2023-02-24 10:41:46 (12.4 MB/s) - ‘cars.csv.1’ saved [22608/22608]\n",
            "\n"
          ]
        }
      ]
    },
    {
      "cell_type": "markdown",
      "source": [
        "Create a Spark dataframe from the CSV file and show its first 5 rows"
      ],
      "metadata": {
        "id": "xeAK3i8kMikd"
      }
    },
    {
      "cell_type": "code",
      "source": [
        "df = spark.read.csv('cars.csv', header=True, sep=\";\")\n",
        "\n",
        "df.show(5)"
      ],
      "metadata": {
        "id": "yRYFFjrIM7hH",
        "colab": {
          "base_uri": "https://localhost:8080/"
        },
        "outputId": "432ff077-791a-4f4d-ceb3-1f470eea91fe"
      },
      "execution_count": null,
      "outputs": [
        {
          "output_type": "stream",
          "name": "stdout",
          "text": [
            "+--------------------+----+---------+------------+----------+------+------------+-----+------+\n",
            "|                 Car| MPG|Cylinders|Displacement|Horsepower|Weight|Acceleration|Model|Origin|\n",
            "+--------------------+----+---------+------------+----------+------+------------+-----+------+\n",
            "|Chevrolet Chevell...|18.0|        8|       307.0|     130.0| 3504.|        12.0|   70|    US|\n",
            "|   Buick Skylark 320|15.0|        8|       350.0|     165.0| 3693.|        11.5|   70|    US|\n",
            "|  Plymouth Satellite|18.0|        8|       318.0|     150.0| 3436.|        11.0|   70|    US|\n",
            "|       AMC Rebel SST|16.0|        8|       304.0|     150.0| 3433.|        12.0|   70|    US|\n",
            "|         Ford Torino|17.0|        8|       302.0|     140.0| 3449.|        10.5|   70|    US|\n",
            "+--------------------+----+---------+------------+----------+------+------------+-----+------+\n",
            "only showing top 5 rows\n",
            "\n"
          ]
        }
      ]
    },
    {
      "cell_type": "markdown",
      "source": [
        "Print the column details"
      ],
      "metadata": {
        "id": "7jSE0pZ1MlVd"
      }
    },
    {
      "cell_type": "code",
      "source": [
        "df.printSchema()"
      ],
      "metadata": {
        "id": "2R066yhgND_m",
        "colab": {
          "base_uri": "https://localhost:8080/"
        },
        "outputId": "db386a8c-8d1b-4265-ec51-ee648a99f0be"
      },
      "execution_count": null,
      "outputs": [
        {
          "output_type": "stream",
          "name": "stdout",
          "text": [
            "root\n",
            " |-- Car: string (nullable = true)\n",
            " |-- MPG: string (nullable = true)\n",
            " |-- Cylinders: string (nullable = true)\n",
            " |-- Displacement: string (nullable = true)\n",
            " |-- Horsepower: string (nullable = true)\n",
            " |-- Weight: string (nullable = true)\n",
            " |-- Acceleration: string (nullable = true)\n",
            " |-- Model: string (nullable = true)\n",
            " |-- Origin: string (nullable = true)\n",
            "\n"
          ]
        }
      ]
    },
    {
      "cell_type": "markdown",
      "source": [
        " View the data types of a dataframe: use dtypes, and printschema"
      ],
      "metadata": {
        "id": "Qhq2hs-KMo6T"
      }
    },
    {
      "cell_type": "code",
      "source": [
        "print(df.dtypes)"
      ],
      "metadata": {
        "id": "XwFS9d1dNILE",
        "colab": {
          "base_uri": "https://localhost:8080/"
        },
        "outputId": "77cf5db5-133d-4334-e5fd-c537532b28e6"
      },
      "execution_count": null,
      "outputs": [
        {
          "output_type": "stream",
          "name": "stdout",
          "text": [
            "[('Car', 'string'), ('MPG', 'string'), ('Cylinders', 'string'), ('Displacement', 'string'), ('Horsepower', 'string'), ('Weight', 'string'), ('Acceleration', 'string'), ('Model', 'string'), ('Origin', 'string')]\n"
          ]
        }
      ]
    },
    {
      "cell_type": "code",
      "source": [
        "df.printSchema()"
      ],
      "metadata": {
        "colab": {
          "base_uri": "https://localhost:8080/"
        },
        "id": "LFgySO9rN7X8",
        "outputId": "dc0535bc-272f-485a-e9d9-ac44ebcd5bc4"
      },
      "execution_count": null,
      "outputs": [
        {
          "output_type": "stream",
          "name": "stdout",
          "text": [
            "root\n",
            " |-- Car: string (nullable = true)\n",
            " |-- MPG: string (nullable = true)\n",
            " |-- Cylinders: string (nullable = true)\n",
            " |-- Displacement: string (nullable = true)\n",
            " |-- Horsepower: string (nullable = true)\n",
            " |-- Weight: string (nullable = true)\n",
            " |-- Acceleration: string (nullable = true)\n",
            " |-- Model: string (nullable = true)\n",
            " |-- Origin: string (nullable = true)\n",
            "\n"
          ]
        }
      ]
    },
    {
      "cell_type": "markdown",
      "source": [
        "Print only the 'Car' column"
      ],
      "metadata": {
        "id": "e3JPBXDsMuyr"
      }
    },
    {
      "cell_type": "code",
      "source": [
        "df.select('Car').show()"
      ],
      "metadata": {
        "id": "2tqUlQuHNO8m",
        "colab": {
          "base_uri": "https://localhost:8080/"
        },
        "outputId": "bb700fcc-5017-4bbe-fb71-75d50a7c5f5a"
      },
      "execution_count": null,
      "outputs": [
        {
          "output_type": "stream",
          "name": "stdout",
          "text": [
            "+--------------------+\n",
            "|                 Car|\n",
            "+--------------------+\n",
            "|Chevrolet Chevell...|\n",
            "|   Buick Skylark 320|\n",
            "|  Plymouth Satellite|\n",
            "|       AMC Rebel SST|\n",
            "|         Ford Torino|\n",
            "|    Ford Galaxie 500|\n",
            "|    Chevrolet Impala|\n",
            "|   Plymouth Fury iii|\n",
            "|    Pontiac Catalina|\n",
            "|  AMC Ambassador DPL|\n",
            "|Citroen DS-21 Pallas|\n",
            "|Chevrolet Chevell...|\n",
            "|    Ford Torino (sw)|\n",
            "|Plymouth Satellit...|\n",
            "|  AMC Rebel SST (sw)|\n",
            "| Dodge Challenger SE|\n",
            "|  Plymouth 'Cuda 340|\n",
            "|Ford Mustang Boss...|\n",
            "|Chevrolet Monte C...|\n",
            "|Buick Estate Wago...|\n",
            "+--------------------+\n",
            "only showing top 20 rows\n",
            "\n"
          ]
        }
      ]
    },
    {
      "cell_type": "markdown",
      "source": [
        "Print multiple columns 'Car' and 'Cylinder'"
      ],
      "metadata": {
        "id": "QgmYWqa0MxHW"
      }
    },
    {
      "cell_type": "code",
      "source": [
        "df.select('Car', 'Cylinders').show()"
      ],
      "metadata": {
        "id": "qJIcxNyLOEgt",
        "colab": {
          "base_uri": "https://localhost:8080/"
        },
        "outputId": "5b9799be-fec6-4fe8-d3a1-4075d9cc4e21"
      },
      "execution_count": null,
      "outputs": [
        {
          "output_type": "stream",
          "name": "stdout",
          "text": [
            "+--------------------+---------+\n",
            "|                 Car|Cylinders|\n",
            "+--------------------+---------+\n",
            "|Chevrolet Chevell...|        8|\n",
            "|   Buick Skylark 320|        8|\n",
            "|  Plymouth Satellite|        8|\n",
            "|       AMC Rebel SST|        8|\n",
            "|         Ford Torino|        8|\n",
            "|    Ford Galaxie 500|        8|\n",
            "|    Chevrolet Impala|        8|\n",
            "|   Plymouth Fury iii|        8|\n",
            "|    Pontiac Catalina|        8|\n",
            "|  AMC Ambassador DPL|        8|\n",
            "|Citroen DS-21 Pallas|        4|\n",
            "|Chevrolet Chevell...|        8|\n",
            "|    Ford Torino (sw)|        8|\n",
            "|Plymouth Satellit...|        8|\n",
            "|  AMC Rebel SST (sw)|        8|\n",
            "| Dodge Challenger SE|        8|\n",
            "|  Plymouth 'Cuda 340|        8|\n",
            "|Ford Mustang Boss...|        8|\n",
            "|Chevrolet Monte C...|        8|\n",
            "|Buick Estate Wago...|        8|\n",
            "+--------------------+---------+\n",
            "only showing top 20 rows\n",
            "\n"
          ]
        }
      ]
    },
    {
      "cell_type": "markdown",
      "source": [
        "Groupby the data for 'Origin' column and show the counts"
      ],
      "metadata": {
        "id": "rLTa3cK0M2S1"
      }
    },
    {
      "cell_type": "code",
      "source": [
        "df.groupBy('Origin').count().show()"
      ],
      "metadata": {
        "id": "O22cMSBFOnva",
        "colab": {
          "base_uri": "https://localhost:8080/"
        },
        "outputId": "b0ff17df-7fc6-4547-9804-278a71d59e9d"
      },
      "execution_count": null,
      "outputs": [
        {
          "output_type": "stream",
          "name": "stdout",
          "text": [
            "+------+-----+\n",
            "|Origin|count|\n",
            "+------+-----+\n",
            "|Europe|   73|\n",
            "|    US|  254|\n",
            "| Japan|   79|\n",
            "+------+-----+\n",
            "\n"
          ]
        }
      ]
    },
    {
      "cell_type": "markdown",
      "source": [
        " Print rows where MPG>14"
      ],
      "metadata": {
        "id": "eY8c3haAM4Kr"
      }
    },
    {
      "cell_type": "code",
      "source": [
        "df = df.filter((df.MPG > 14))\n",
        "\n",
        "df"
      ],
      "metadata": {
        "id": "IQJ6XtUFOus8",
        "colab": {
          "base_uri": "https://localhost:8080/",
          "height": 524
        },
        "outputId": "281fd963-a6c4-45b0-fb45-512cc333fe40"
      },
      "execution_count": null,
      "outputs": [
        {
          "output_type": "execute_result",
          "data": {
            "text/plain": [
              "+--------------------+----+---------+------------+----------+------+------------+-----+------+\n",
              "|                 Car| MPG|Cylinders|Displacement|Horsepower|Weight|Acceleration|Model|Origin|\n",
              "+--------------------+----+---------+------------+----------+------+------------+-----+------+\n",
              "|Chevrolet Chevell...|18.0|        8|       307.0|     130.0| 3504.|        12.0|   70|    US|\n",
              "|   Buick Skylark 320|15.0|        8|       350.0|     165.0| 3693.|        11.5|   70|    US|\n",
              "|  Plymouth Satellite|18.0|        8|       318.0|     150.0| 3436.|        11.0|   70|    US|\n",
              "|       AMC Rebel SST|16.0|        8|       304.0|     150.0| 3433.|        12.0|   70|    US|\n",
              "|         Ford Torino|17.0|        8|       302.0|     140.0| 3449.|        10.5|   70|    US|\n",
              "|    Ford Galaxie 500|15.0|        8|       429.0|     198.0| 4341.|        10.0|   70|    US|\n",
              "|  AMC Ambassador DPL|15.0|        8|       390.0|     190.0| 3850.|         8.5|   70|    US|\n",
              "| Dodge Challenger SE|15.0|        8|       383.0|     170.0| 3563.|        10.0|   70|    US|\n",
              "|Chevrolet Monte C...|15.0|        8|       400.0|     150.0| 3761.|         9.5|   70|    US|\n",
              "|Toyota Corolla Ma...|24.0|        4|       113.0|     95.00| 2372.|        15.0|   70| Japan|\n",
              "|     Plymouth Duster|22.0|        6|       198.0|     95.00| 2833.|        15.5|   70|    US|\n",
              "|          AMC Hornet|18.0|        6|       199.0|     97.00| 2774.|        15.5|   70|    US|\n",
              "|       Ford Maverick|21.0|        6|       200.0|     85.00| 2587.|        16.0|   70|    US|\n",
              "|        Datsun PL510|27.0|        4|       97.00|     88.00| 2130.|        14.5|   70| Japan|\n",
              "|Volkswagen 1131 D...|26.0|        4|       97.00|     46.00| 1835.|        20.5|   70|Europe|\n",
              "|         Peugeot 504|25.0|        4|       110.0|     87.00| 2672.|        17.5|   70|Europe|\n",
              "|         Audi 100 LS|24.0|        4|       107.0|     90.00| 2430.|        14.5|   70|Europe|\n",
              "|            Saab 99e|25.0|        4|       104.0|     95.00| 2375.|        17.5|   70|Europe|\n",
              "|            BMW 2002|26.0|        4|       121.0|     113.0| 2234.|        12.5|   70|Europe|\n",
              "|         AMC Gremlin|21.0|        6|       199.0|     90.00| 2648.|        15.0|   70|    US|\n",
              "+--------------------+----+---------+------------+----------+------+------------+-----+------+\n",
              "only showing top 20 rows"
            ],
            "text/html": [
              "<table border='1'>\n",
              "<tr><th>Car</th><th>MPG</th><th>Cylinders</th><th>Displacement</th><th>Horsepower</th><th>Weight</th><th>Acceleration</th><th>Model</th><th>Origin</th></tr>\n",
              "<tr><td>Chevrolet Chevell...</td><td>18.0</td><td>8</td><td>307.0</td><td>130.0</td><td>3504.</td><td>12.0</td><td>70</td><td>US</td></tr>\n",
              "<tr><td>Buick Skylark 320</td><td>15.0</td><td>8</td><td>350.0</td><td>165.0</td><td>3693.</td><td>11.5</td><td>70</td><td>US</td></tr>\n",
              "<tr><td>Plymouth Satellite</td><td>18.0</td><td>8</td><td>318.0</td><td>150.0</td><td>3436.</td><td>11.0</td><td>70</td><td>US</td></tr>\n",
              "<tr><td>AMC Rebel SST</td><td>16.0</td><td>8</td><td>304.0</td><td>150.0</td><td>3433.</td><td>12.0</td><td>70</td><td>US</td></tr>\n",
              "<tr><td>Ford Torino</td><td>17.0</td><td>8</td><td>302.0</td><td>140.0</td><td>3449.</td><td>10.5</td><td>70</td><td>US</td></tr>\n",
              "<tr><td>Ford Galaxie 500</td><td>15.0</td><td>8</td><td>429.0</td><td>198.0</td><td>4341.</td><td>10.0</td><td>70</td><td>US</td></tr>\n",
              "<tr><td>AMC Ambassador DPL</td><td>15.0</td><td>8</td><td>390.0</td><td>190.0</td><td>3850.</td><td>8.5</td><td>70</td><td>US</td></tr>\n",
              "<tr><td>Dodge Challenger SE</td><td>15.0</td><td>8</td><td>383.0</td><td>170.0</td><td>3563.</td><td>10.0</td><td>70</td><td>US</td></tr>\n",
              "<tr><td>Chevrolet Monte C...</td><td>15.0</td><td>8</td><td>400.0</td><td>150.0</td><td>3761.</td><td>9.5</td><td>70</td><td>US</td></tr>\n",
              "<tr><td>Toyota Corolla Ma...</td><td>24.0</td><td>4</td><td>113.0</td><td>95.00</td><td>2372.</td><td>15.0</td><td>70</td><td>Japan</td></tr>\n",
              "<tr><td>Plymouth Duster</td><td>22.0</td><td>6</td><td>198.0</td><td>95.00</td><td>2833.</td><td>15.5</td><td>70</td><td>US</td></tr>\n",
              "<tr><td>AMC Hornet</td><td>18.0</td><td>6</td><td>199.0</td><td>97.00</td><td>2774.</td><td>15.5</td><td>70</td><td>US</td></tr>\n",
              "<tr><td>Ford Maverick</td><td>21.0</td><td>6</td><td>200.0</td><td>85.00</td><td>2587.</td><td>16.0</td><td>70</td><td>US</td></tr>\n",
              "<tr><td>Datsun PL510</td><td>27.0</td><td>4</td><td>97.00</td><td>88.00</td><td>2130.</td><td>14.5</td><td>70</td><td>Japan</td></tr>\n",
              "<tr><td>Volkswagen 1131 D...</td><td>26.0</td><td>4</td><td>97.00</td><td>46.00</td><td>1835.</td><td>20.5</td><td>70</td><td>Europe</td></tr>\n",
              "<tr><td>Peugeot 504</td><td>25.0</td><td>4</td><td>110.0</td><td>87.00</td><td>2672.</td><td>17.5</td><td>70</td><td>Europe</td></tr>\n",
              "<tr><td>Audi 100 LS</td><td>24.0</td><td>4</td><td>107.0</td><td>90.00</td><td>2430.</td><td>14.5</td><td>70</td><td>Europe</td></tr>\n",
              "<tr><td>Saab 99e</td><td>25.0</td><td>4</td><td>104.0</td><td>95.00</td><td>2375.</td><td>17.5</td><td>70</td><td>Europe</td></tr>\n",
              "<tr><td>BMW 2002</td><td>26.0</td><td>4</td><td>121.0</td><td>113.0</td><td>2234.</td><td>12.5</td><td>70</td><td>Europe</td></tr>\n",
              "<tr><td>AMC Gremlin</td><td>21.0</td><td>6</td><td>199.0</td><td>90.00</td><td>2648.</td><td>15.0</td><td>70</td><td>US</td></tr>\n",
              "</table>\n",
              "only showing top 20 rows\n"
            ]
          },
          "metadata": {},
          "execution_count": 93
        }
      ]
    },
    {
      "cell_type": "markdown",
      "source": [
        "Order the data according to the 'Cylinders' column in descending order"
      ],
      "metadata": {
        "id": "yumR3tarM6ja"
      }
    },
    {
      "cell_type": "code",
      "source": [
        "df.orderBy(df.Cylinders.desc()).show()"
      ],
      "metadata": {
        "id": "y7DXqYsiPbKf",
        "colab": {
          "base_uri": "https://localhost:8080/"
        },
        "outputId": "ca6cc439-aa25-4d0e-f538-bde78ccbbe1c"
      },
      "execution_count": null,
      "outputs": [
        {
          "output_type": "stream",
          "name": "stdout",
          "text": [
            "+--------------------+----+---------+------------+----------+------+------------+-----+------+\n",
            "|                 Car| MPG|Cylinders|Displacement|Horsepower|Weight|Acceleration|Model|Origin|\n",
            "+--------------------+----+---------+------------+----------+------+------------+-----+------+\n",
            "|   Dodge Dart Custom|15.0|        8|       318.0|     150.0| 3399.|        11.0|   73|    US|\n",
            "|Mercury Monarch ghia|20.2|        8|       302.0|     139.0| 3570.|        12.8|   78|    US|\n",
            "|    Ford Gran Torino|16.0|        8|       302.0|     140.0| 4141.|        14.0|   74|    US|\n",
            "|   Buick Skylark 320|15.0|        8|       350.0|     165.0| 3693.|        11.5|   70|    US|\n",
            "|    Pontiac Catalina|16.0|        8|       400.0|     170.0| 4668.|        11.5|   75|    US|\n",
            "|       AMC Rebel SST|16.0|        8|       304.0|     150.0| 3433.|        12.0|   70|    US|\n",
            "|   Chevrolet Bel Air|15.0|        8|       350.0|     145.0| 4440.|        14.0|   75|    US|\n",
            "|    Ford Galaxie 500|15.0|        8|       429.0|     198.0| 4341.|        10.0|   70|    US|\n",
            "| Plymouth Grand Fury|16.0|        8|       318.0|     150.0| 4498.|        14.5|   75|    US|\n",
            "| Dodge Challenger SE|15.0|        8|       383.0|     170.0| 3563.|        10.0|   70|    US|\n",
            "| Chevrolet Monza 2+2|20.0|        8|       262.0|     110.0| 3221.|        13.5|   75|    US|\n",
            "|  Pontiac Grand Prix|16.0|        8|       400.0|     230.0| 4278.|        9.50|   73|    US|\n",
            "|Chevrolet Chevell...|17.5|        8|       305.0|     140.0| 4215.|        13.0|   76|    US|\n",
            "|  AMC Ambassador SST|17.0|        8|       304.0|     150.0| 3672.|        11.5|   72|    US|\n",
            "|Dodge Coronet Bro...|16.0|        8|       318.0|     150.0| 4190.|        13.0|   76|    US|\n",
            "|Dodge Coronet Custom|15.0|        8|       318.0|     150.0| 3777.|        12.5|   73|    US|\n",
            "|         AMC Matador|15.5|        8|       304.0|     120.0| 3962.|        13.9|   76|    US|\n",
            "|Chevrolet Caprice...|17.5|        8|       305.0|     145.0| 3880.|        12.5|   77|    US|\n",
            "|Oldsmobile Cutlas...|17.0|        8|       260.0|     110.0| 4060.|        19.0|   77|    US|\n",
            "|Chevrolet Chevell...|18.0|        8|       307.0|     130.0| 3504.|        12.0|   70|    US|\n",
            "+--------------------+----+---------+------------+----------+------+------------+-----+------+\n",
            "only showing top 20 rows\n",
            "\n"
          ]
        }
      ]
    },
    {
      "cell_type": "markdown",
      "source": [
        "Print rows where 'Origin'=='Europe and 'Cylinders'==4 (Use filter)"
      ],
      "metadata": {
        "id": "p5mklSQ0M8oK"
      }
    },
    {
      "cell_type": "code",
      "source": [
        "df.filter((df.Origin == 'Europe') & (df.Cylinders == 4)).show()"
      ],
      "metadata": {
        "id": "1YViWKVgQA6W",
        "colab": {
          "base_uri": "https://localhost:8080/"
        },
        "outputId": "c439ff9c-7405-430e-dc68-23fdf02f75c3"
      },
      "execution_count": null,
      "outputs": [
        {
          "output_type": "stream",
          "name": "stdout",
          "text": [
            "+--------------------+----+---------+------------+----------+------+------------+-----+------+\n",
            "|                 Car| MPG|Cylinders|Displacement|Horsepower|Weight|Acceleration|Model|Origin|\n",
            "+--------------------+----+---------+------------+----------+------+------------+-----+------+\n",
            "|Volkswagen 1131 D...|26.0|        4|       97.00|     46.00| 1835.|        20.5|   70|Europe|\n",
            "|         Peugeot 504|25.0|        4|       110.0|     87.00| 2672.|        17.5|   70|Europe|\n",
            "|         Audi 100 LS|24.0|        4|       107.0|     90.00| 2430.|        14.5|   70|Europe|\n",
            "|            Saab 99e|25.0|        4|       104.0|     95.00| 2375.|        17.5|   70|Europe|\n",
            "|            BMW 2002|26.0|        4|       121.0|     113.0| 2234.|        12.5|   70|Europe|\n",
            "|           Opel 1900|28.0|        4|       116.0|     90.00| 2123.|        14.0|   71|Europe|\n",
            "|         Peugeot 304|30.0|        4|       79.00|     70.00| 2074.|        19.5|   71|Europe|\n",
            "|           Fiat 124B|30.0|        4|       88.00|     76.00| 2065.|        14.5|   71|Europe|\n",
            "|Volkswagen Model 111|27.0|        4|       97.00|     60.00| 1834.|        19.0|   71|Europe|\n",
            "|   Volkswagen Type 3|23.0|        4|       97.00|     54.00| 2254.|        23.5|   72|Europe|\n",
            "|     Volvo 145e (sw)|18.0|        4|       121.0|     112.0| 2933.|        14.5|   72|Europe|\n",
            "| Volkswagen 411 (sw)|22.0|        4|       121.0|     76.00| 2511.|        18.0|   72|Europe|\n",
            "|    Peugeot 504 (sw)|21.0|        4|       120.0|     87.00| 2979.|        19.5|   72|Europe|\n",
            "|     Renault 12 (sw)|26.0|        4|       96.00|     69.00| 2189.|        18.0|   72|Europe|\n",
            "|Volkswagen Super ...|26.0|        4|       97.00|     46.00| 1950.|        21.0|   73|Europe|\n",
            "|Fiat 124 Sport Coupe|26.0|        4|       98.00|     90.00| 2265.|        15.5|   73|Europe|\n",
            "|            Fiat 128|29.0|        4|       68.00|     49.00| 1867.|        19.5|   73|Europe|\n",
            "|          Opel Manta|24.0|        4|       116.0|     75.00| 2158.|        15.5|   73|Europe|\n",
            "|          Audi 100LS|20.0|        4|       114.0|     91.00| 2582.|        14.0|   73|Europe|\n",
            "|         Volvo 144ea|19.0|        4|       121.0|     112.0| 2868.|        15.5|   73|Europe|\n",
            "+--------------------+----+---------+------------+----------+------+------------+-----+------+\n",
            "only showing top 20 rows\n",
            "\n"
          ]
        }
      ]
    },
    {
      "cell_type": "markdown",
      "source": [
        "Drop any column of your choice"
      ],
      "metadata": {
        "id": "yPri-QmvM-Mn"
      }
    },
    {
      "cell_type": "code",
      "source": [
        "df = df.drop('Car')\n",
        "df.show()"
      ],
      "metadata": {
        "id": "U1jUKE7bQS41",
        "colab": {
          "base_uri": "https://localhost:8080/"
        },
        "outputId": "dc08c973-7bb9-4a07-eee5-b4813a8707cf"
      },
      "execution_count": null,
      "outputs": [
        {
          "output_type": "stream",
          "name": "stdout",
          "text": [
            "+----+---------+------------+----------+------+------------+-----+------+\n",
            "| MPG|Cylinders|Displacement|Horsepower|Weight|Acceleration|Model|Origin|\n",
            "+----+---------+------------+----------+------+------------+-----+------+\n",
            "|18.0|        8|       307.0|     130.0| 3504.|        12.0|   70|    US|\n",
            "|15.0|        8|       350.0|     165.0| 3693.|        11.5|   70|    US|\n",
            "|18.0|        8|       318.0|     150.0| 3436.|        11.0|   70|    US|\n",
            "|16.0|        8|       304.0|     150.0| 3433.|        12.0|   70|    US|\n",
            "|17.0|        8|       302.0|     140.0| 3449.|        10.5|   70|    US|\n",
            "|15.0|        8|       429.0|     198.0| 4341.|        10.0|   70|    US|\n",
            "|15.0|        8|       390.0|     190.0| 3850.|         8.5|   70|    US|\n",
            "|15.0|        8|       383.0|     170.0| 3563.|        10.0|   70|    US|\n",
            "|15.0|        8|       400.0|     150.0| 3761.|         9.5|   70|    US|\n",
            "|24.0|        4|       113.0|     95.00| 2372.|        15.0|   70| Japan|\n",
            "|22.0|        6|       198.0|     95.00| 2833.|        15.5|   70|    US|\n",
            "|18.0|        6|       199.0|     97.00| 2774.|        15.5|   70|    US|\n",
            "|21.0|        6|       200.0|     85.00| 2587.|        16.0|   70|    US|\n",
            "|27.0|        4|       97.00|     88.00| 2130.|        14.5|   70| Japan|\n",
            "|26.0|        4|       97.00|     46.00| 1835.|        20.5|   70|Europe|\n",
            "|25.0|        4|       110.0|     87.00| 2672.|        17.5|   70|Europe|\n",
            "|24.0|        4|       107.0|     90.00| 2430.|        14.5|   70|Europe|\n",
            "|25.0|        4|       104.0|     95.00| 2375.|        17.5|   70|Europe|\n",
            "|26.0|        4|       121.0|     113.0| 2234.|        12.5|   70|Europe|\n",
            "|21.0|        6|       199.0|     90.00| 2648.|        15.0|   70|    US|\n",
            "+----+---------+------------+----------+------+------------+-----+------+\n",
            "only showing top 20 rows\n",
            "\n"
          ]
        }
      ]
    },
    {
      "cell_type": "markdown",
      "source": [
        "##Exercises for test.csv"
      ],
      "metadata": {
        "id": "xZoE5oK3NFlP"
      }
    },
    {
      "cell_type": "markdown",
      "source": [
        "Upload the dataset to Google Colab test.csv which describes the customer purchase behaviour"
      ],
      "metadata": {
        "id": "Kq2ghnvlNJLY"
      }
    },
    {
      "cell_type": "code",
      "source": [
        "df = spark.read.csv('test.csv', header=True, sep=\",\")\n",
        "df"
      ],
      "metadata": {
        "id": "BceR-I8qlfXt",
        "colab": {
          "base_uri": "https://localhost:8080/",
          "height": 524
        },
        "outputId": "db745d45-4584-406c-f1db-008e44c70c7a"
      },
      "execution_count": null,
      "outputs": [
        {
          "output_type": "execute_result",
          "data": {
            "text/plain": [
              "+-------+----------+------+-----+----------+-------------+--------------------------+--------------+------------------+------------------+------------------+\n",
              "|User_ID|Product_ID|Gender|  Age|Occupation|City_Category|Stay_In_Current_City_Years|Marital_Status|Product_Category_1|Product_Category_2|Product_Category_3|\n",
              "+-------+----------+------+-----+----------+-------------+--------------------------+--------------+------------------+------------------+------------------+\n",
              "|1000004| P00128942|     M|46-50|         7|            B|                         2|             1|                 1|                11|              null|\n",
              "|1000009| P00113442|     M|26-35|        17|            C|                         0|             0|                 3|                 5|              null|\n",
              "|1000010| P00288442|     F|36-45|         1|            B|                        4+|             1|                 5|                14|              null|\n",
              "|1000010| P00145342|     F|36-45|         1|            B|                        4+|             1|                 4|                 9|              null|\n",
              "|1000011| P00053842|     F|26-35|         1|            C|                         1|             0|                 4|                 5|                12|\n",
              "|1000013| P00350442|     M|46-50|         1|            C|                         3|             1|                 2|                 3|                15|\n",
              "|1000013| P00155442|     M|46-50|         1|            C|                         3|             1|                 1|                11|                15|\n",
              "|1000013|  P0094542|     M|46-50|         1|            C|                         3|             1|                 2|                 4|                 9|\n",
              "|1000015| P00161842|     M|26-35|         7|            A|                         1|             0|                10|                13|                16|\n",
              "|1000022| P00067942|     M|18-25|        15|            A|                        4+|             0|                 5|                14|              null|\n",
              "|1000026| P00046742|     M|26-35|         7|            B|                         2|             1|                 1|                 2|                15|\n",
              "|1000026| P00040042|     M|26-35|         7|            B|                         2|             1|                 5|              null|              null|\n",
              "|1000026| P00196542|     M|26-35|         7|            B|                         2|             1|                 5|                 8|                14|\n",
              "|1000026| P00004542|     M|26-35|         7|            B|                         2|             1|                 5|                 8|              null|\n",
              "|1000028| P00159542|     F|26-35|         1|            C|                         2|             1|                10|                15|                16|\n",
              "|1000029| P00111542|     M|36-45|         7|            C|                         1|             0|                 2|                17|              null|\n",
              "|1000033| P00121042|     M|46-50|         3|            A|                         1|             1|                15|              null|              null|\n",
              "|1000033| P00344442|     M|46-50|         3|            A|                         1|             1|                 5|                 8|                14|\n",
              "|1000034| P00265242|     F|18-25|         0|            A|                         0|             0|                 5|                 8|              null|\n",
              "|1000035|  P0096642|     M|46-50|         1|            C|                        4+|             1|                 2|                 3|                 4|\n",
              "+-------+----------+------+-----+----------+-------------+--------------------------+--------------+------------------+------------------+------------------+\n",
              "only showing top 20 rows"
            ],
            "text/html": [
              "<table border='1'>\n",
              "<tr><th>User_ID</th><th>Product_ID</th><th>Gender</th><th>Age</th><th>Occupation</th><th>City_Category</th><th>Stay_In_Current_City_Years</th><th>Marital_Status</th><th>Product_Category_1</th><th>Product_Category_2</th><th>Product_Category_3</th></tr>\n",
              "<tr><td>1000004</td><td>P00128942</td><td>M</td><td>46-50</td><td>7</td><td>B</td><td>2</td><td>1</td><td>1</td><td>11</td><td>null</td></tr>\n",
              "<tr><td>1000009</td><td>P00113442</td><td>M</td><td>26-35</td><td>17</td><td>C</td><td>0</td><td>0</td><td>3</td><td>5</td><td>null</td></tr>\n",
              "<tr><td>1000010</td><td>P00288442</td><td>F</td><td>36-45</td><td>1</td><td>B</td><td>4+</td><td>1</td><td>5</td><td>14</td><td>null</td></tr>\n",
              "<tr><td>1000010</td><td>P00145342</td><td>F</td><td>36-45</td><td>1</td><td>B</td><td>4+</td><td>1</td><td>4</td><td>9</td><td>null</td></tr>\n",
              "<tr><td>1000011</td><td>P00053842</td><td>F</td><td>26-35</td><td>1</td><td>C</td><td>1</td><td>0</td><td>4</td><td>5</td><td>12</td></tr>\n",
              "<tr><td>1000013</td><td>P00350442</td><td>M</td><td>46-50</td><td>1</td><td>C</td><td>3</td><td>1</td><td>2</td><td>3</td><td>15</td></tr>\n",
              "<tr><td>1000013</td><td>P00155442</td><td>M</td><td>46-50</td><td>1</td><td>C</td><td>3</td><td>1</td><td>1</td><td>11</td><td>15</td></tr>\n",
              "<tr><td>1000013</td><td>P0094542</td><td>M</td><td>46-50</td><td>1</td><td>C</td><td>3</td><td>1</td><td>2</td><td>4</td><td>9</td></tr>\n",
              "<tr><td>1000015</td><td>P00161842</td><td>M</td><td>26-35</td><td>7</td><td>A</td><td>1</td><td>0</td><td>10</td><td>13</td><td>16</td></tr>\n",
              "<tr><td>1000022</td><td>P00067942</td><td>M</td><td>18-25</td><td>15</td><td>A</td><td>4+</td><td>0</td><td>5</td><td>14</td><td>null</td></tr>\n",
              "<tr><td>1000026</td><td>P00046742</td><td>M</td><td>26-35</td><td>7</td><td>B</td><td>2</td><td>1</td><td>1</td><td>2</td><td>15</td></tr>\n",
              "<tr><td>1000026</td><td>P00040042</td><td>M</td><td>26-35</td><td>7</td><td>B</td><td>2</td><td>1</td><td>5</td><td>null</td><td>null</td></tr>\n",
              "<tr><td>1000026</td><td>P00196542</td><td>M</td><td>26-35</td><td>7</td><td>B</td><td>2</td><td>1</td><td>5</td><td>8</td><td>14</td></tr>\n",
              "<tr><td>1000026</td><td>P00004542</td><td>M</td><td>26-35</td><td>7</td><td>B</td><td>2</td><td>1</td><td>5</td><td>8</td><td>null</td></tr>\n",
              "<tr><td>1000028</td><td>P00159542</td><td>F</td><td>26-35</td><td>1</td><td>C</td><td>2</td><td>1</td><td>10</td><td>15</td><td>16</td></tr>\n",
              "<tr><td>1000029</td><td>P00111542</td><td>M</td><td>36-45</td><td>7</td><td>C</td><td>1</td><td>0</td><td>2</td><td>17</td><td>null</td></tr>\n",
              "<tr><td>1000033</td><td>P00121042</td><td>M</td><td>46-50</td><td>3</td><td>A</td><td>1</td><td>1</td><td>15</td><td>null</td><td>null</td></tr>\n",
              "<tr><td>1000033</td><td>P00344442</td><td>M</td><td>46-50</td><td>3</td><td>A</td><td>1</td><td>1</td><td>5</td><td>8</td><td>14</td></tr>\n",
              "<tr><td>1000034</td><td>P00265242</td><td>F</td><td>18-25</td><td>0</td><td>A</td><td>0</td><td>0</td><td>5</td><td>8</td><td>null</td></tr>\n",
              "<tr><td>1000035</td><td>P0096642</td><td>M</td><td>46-50</td><td>1</td><td>C</td><td>4+</td><td>1</td><td>2</td><td>3</td><td>4</td></tr>\n",
              "</table>\n",
              "only showing top 20 rows\n"
            ]
          },
          "metadata": {},
          "execution_count": 97
        }
      ]
    },
    {
      "cell_type": "markdown",
      "source": [
        "Show Column details of the dataset"
      ],
      "metadata": {
        "id": "cVazv1PjNLLn"
      }
    },
    {
      "cell_type": "code",
      "source": [
        "df.printSchema()"
      ],
      "metadata": {
        "id": "5WHppHGxLM4j",
        "colab": {
          "base_uri": "https://localhost:8080/"
        },
        "outputId": "b10cf6fe-8c0a-4f52-8d1d-84daa82d2a11"
      },
      "execution_count": null,
      "outputs": [
        {
          "output_type": "stream",
          "name": "stdout",
          "text": [
            "root\n",
            " |-- User_ID: string (nullable = true)\n",
            " |-- Product_ID: string (nullable = true)\n",
            " |-- Gender: string (nullable = true)\n",
            " |-- Age: string (nullable = true)\n",
            " |-- Occupation: string (nullable = true)\n",
            " |-- City_Category: string (nullable = true)\n",
            " |-- Stay_In_Current_City_Years: string (nullable = true)\n",
            " |-- Marital_Status: string (nullable = true)\n",
            " |-- Product_Category_1: string (nullable = true)\n",
            " |-- Product_Category_2: string (nullable = true)\n",
            " |-- Product_Category_3: string (nullable = true)\n",
            "\n"
          ]
        }
      ]
    },
    {
      "cell_type": "markdown",
      "source": [
        "Display the first 15 rows of the dataset"
      ],
      "metadata": {
        "id": "7lpF4uOENPVo"
      }
    },
    {
      "cell_type": "code",
      "source": [
        "df.show(15)"
      ],
      "metadata": {
        "id": "9TBO3jZqt5iP",
        "colab": {
          "base_uri": "https://localhost:8080/"
        },
        "outputId": "afdd8e48-0764-42d6-d316-7e72f2afae12"
      },
      "execution_count": null,
      "outputs": [
        {
          "output_type": "stream",
          "name": "stdout",
          "text": [
            "+-------+----------+------+-----+----------+-------------+--------------------------+--------------+------------------+------------------+------------------+\n",
            "|User_ID|Product_ID|Gender|  Age|Occupation|City_Category|Stay_In_Current_City_Years|Marital_Status|Product_Category_1|Product_Category_2|Product_Category_3|\n",
            "+-------+----------+------+-----+----------+-------------+--------------------------+--------------+------------------+------------------+------------------+\n",
            "|1000004| P00128942|     M|46-50|         7|            B|                         2|             1|                 1|                11|              null|\n",
            "|1000009| P00113442|     M|26-35|        17|            C|                         0|             0|                 3|                 5|              null|\n",
            "|1000010| P00288442|     F|36-45|         1|            B|                        4+|             1|                 5|                14|              null|\n",
            "|1000010| P00145342|     F|36-45|         1|            B|                        4+|             1|                 4|                 9|              null|\n",
            "|1000011| P00053842|     F|26-35|         1|            C|                         1|             0|                 4|                 5|                12|\n",
            "|1000013| P00350442|     M|46-50|         1|            C|                         3|             1|                 2|                 3|                15|\n",
            "|1000013| P00155442|     M|46-50|         1|            C|                         3|             1|                 1|                11|                15|\n",
            "|1000013|  P0094542|     M|46-50|         1|            C|                         3|             1|                 2|                 4|                 9|\n",
            "|1000015| P00161842|     M|26-35|         7|            A|                         1|             0|                10|                13|                16|\n",
            "|1000022| P00067942|     M|18-25|        15|            A|                        4+|             0|                 5|                14|              null|\n",
            "|1000026| P00046742|     M|26-35|         7|            B|                         2|             1|                 1|                 2|                15|\n",
            "|1000026| P00040042|     M|26-35|         7|            B|                         2|             1|                 5|              null|              null|\n",
            "|1000026| P00196542|     M|26-35|         7|            B|                         2|             1|                 5|                 8|                14|\n",
            "|1000026| P00004542|     M|26-35|         7|            B|                         2|             1|                 5|                 8|              null|\n",
            "|1000028| P00159542|     F|26-35|         1|            C|                         2|             1|                10|                15|                16|\n",
            "+-------+----------+------+-----+----------+-------------+--------------------------+--------------+------------------+------------------+------------------+\n",
            "only showing top 15 rows\n",
            "\n"
          ]
        }
      ]
    },
    {
      "cell_type": "markdown",
      "source": [
        "Print the total number of rows in the dataset"
      ],
      "metadata": {
        "id": "9j3MDCYCNRR6"
      }
    },
    {
      "cell_type": "code",
      "source": [
        "df.count()"
      ],
      "metadata": {
        "id": "TON2yvgLuDdK",
        "colab": {
          "base_uri": "https://localhost:8080/"
        },
        "outputId": "cad0ae51-45ad-4e3c-c825-104e704fde19"
      },
      "execution_count": null,
      "outputs": [
        {
          "output_type": "execute_result",
          "data": {
            "text/plain": [
              "233599"
            ]
          },
          "metadata": {},
          "execution_count": 100
        }
      ]
    },
    {
      "cell_type": "markdown",
      "source": [
        "Determine the total Purchase per City Category"
      ],
      "metadata": {
        "id": "AQo-jJhJNUSp"
      }
    },
    {
      "cell_type": "code",
      "source": [
        "df.groupby(\"City_Category\").count().show()"
      ],
      "metadata": {
        "colab": {
          "base_uri": "https://localhost:8080/"
        },
        "id": "oNO65rG0AWf6",
        "outputId": "7c42f05b-59d5-4989-f87c-1a9889f03123"
      },
      "execution_count": null,
      "outputs": [
        {
          "output_type": "stream",
          "name": "stdout",
          "text": [
            "+-------------+-----+\n",
            "|City_Category|count|\n",
            "+-------------+-----+\n",
            "|            B|98566|\n",
            "|            C|72509|\n",
            "|            A|62524|\n",
            "+-------------+-----+\n",
            "\n"
          ]
        }
      ]
    },
    {
      "cell_type": "markdown",
      "source": [
        "Remove rows which have missing values"
      ],
      "metadata": {
        "id": "9Wzxsn4VNWCc"
      }
    },
    {
      "cell_type": "code",
      "source": [
        "df = df.dropna()"
      ],
      "metadata": {
        "id": "B9I4VXt6ugAG"
      },
      "execution_count": null,
      "outputs": []
    },
    {
      "cell_type": "markdown",
      "source": [
        "Determine the number of users who have age in the age range 46-50 years"
      ],
      "metadata": {
        "id": "MP56-n8HNX9e"
      }
    },
    {
      "cell_type": "code",
      "source": [
        "from pyspark.sql.functions import col\n",
        "\n",
        "df.filter(col('Age') == '46-50').count()"
      ],
      "metadata": {
        "colab": {
          "base_uri": "https://localhost:8080/"
        },
        "id": "NAWfDefw_saX",
        "outputId": "7efdca8a-3880-44d4-844e-4c8ff9615d88"
      },
      "execution_count": null,
      "outputs": [
        {
          "output_type": "execute_result",
          "data": {
            "text/plain": [
              "5782"
            ]
          },
          "metadata": {},
          "execution_count": 103
        }
      ]
    },
    {
      "cell_type": "markdown",
      "source": [
        "Which city has the largest purchase amount?"
      ],
      "metadata": {
        "id": "Kez0ZxoWNZsv"
      }
    },
    {
      "cell_type": "code",
      "source": [
        "df = df.withColumn(\"sum\", col(\"Product_Category_1\") + col(\"Product_Category_2\") + col(\"Product_Category_3\"))\n",
        "\n",
        "df.orderBy(df.sum.desc()).show()"
      ],
      "metadata": {
        "colab": {
          "base_uri": "https://localhost:8080/"
        },
        "id": "W1u0XARdBfT3",
        "outputId": "1727c491-ef78-4484-e636-3ef5a4658cca"
      },
      "execution_count": null,
      "outputs": [
        {
          "output_type": "stream",
          "name": "stdout",
          "text": [
            "+-------+----------+------+-----+----------+-------------+--------------------------+--------------+------------------+------------------+------------------+----+\n",
            "|User_ID|Product_ID|Gender|  Age|Occupation|City_Category|Stay_In_Current_City_Years|Marital_Status|Product_Category_1|Product_Category_2|Product_Category_3| sum|\n",
            "+-------+----------+------+-----+----------+-------------+--------------------------+--------------+------------------+------------------+------------------+----+\n",
            "|1001985| P00209642|     M|46-50|        12|            A|                         2|             1|                15|                16|                17|48.0|\n",
            "|1005880| P00209642|     M|26-35|         1|            A|                         1|             1|                15|                16|                17|48.0|\n",
            "|1004054| P00209642|     M|36-45|         3|            B|                         1|             0|                15|                16|                17|48.0|\n",
            "|1000165| P00209642|     M|18-25|        16|            A|                         1|             0|                15|                16|                17|48.0|\n",
            "|1004160| P00209642|     M|36-45|        20|            A|                        4+|             1|                15|                16|                17|48.0|\n",
            "|1004447| P00209642|     M|46-50|         5|            B|                         0|             1|                15|                16|                17|48.0|\n",
            "|1005034| P00209642|     F|26-35|        15|            C|                         1|             1|                15|                16|                17|48.0|\n",
            "|1001925| P00209642|     M|51-55|         7|            B|                         1|             0|                15|                16|                17|48.0|\n",
            "|1005916| P00209642|     M|51-55|        20|            B|                         1|             1|                15|                16|                17|48.0|\n",
            "|1005815| P00209642|     M|26-35|        20|            B|                         1|             0|                15|                16|                17|48.0|\n",
            "|1004661| P00209642|     M|46-50|        15|            B|                        4+|             1|                15|                16|                17|48.0|\n",
            "|1004514| P00209642|     M|18-25|         3|            C|                         2|             1|                15|                16|                17|48.0|\n",
            "|1000776| P00209642|     F|26-35|         3|            B|                         1|             0|                15|                16|                17|48.0|\n",
            "|1003807| P00209642|     F|36-45|        19|            B|                         2|             0|                15|                16|                17|48.0|\n",
            "|1004408| P00209642|     F|46-50|         2|            B|                         1|             1|                15|                16|                17|48.0|\n",
            "|1004897| P00209642|     M|36-45|        16|            B|                         3|             0|                15|                16|                17|48.0|\n",
            "|1005085| P00209642|     M|  55+|        17|            C|                         0|             0|                15|                16|                17|48.0|\n",
            "|1003923| P00209642|     M|36-45|         2|            C|                         2|             0|                15|                16|                17|48.0|\n",
            "|1003479| P00209642|     M|18-25|         4|            C|                         2|             0|                15|                16|                17|48.0|\n",
            "|1004344| P00209642|     M|26-35|         1|            A|                        4+|             0|                15|                16|                17|48.0|\n",
            "+-------+----------+------+-----+----------+-------------+--------------------------+--------------+------------------+------------------+------------------+----+\n",
            "only showing top 20 rows\n",
            "\n"
          ]
        }
      ]
    },
    {
      "cell_type": "code",
      "source": [],
      "metadata": {
        "id": "fZLFjQmMCKHU"
      },
      "execution_count": null,
      "outputs": []
    }
  ]
}
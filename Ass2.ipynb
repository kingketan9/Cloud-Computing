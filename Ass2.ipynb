{
  "nbformat": 4,
  "nbformat_minor": 0,
  "metadata": {
    "colab": {
      "provenance": [],
      "authorship_tag": "ABX9TyNfjCQtgRd62k7JlLBtHpK2",
      "include_colab_link": true
    },
    "kernelspec": {
      "name": "python3",
      "display_name": "Python 3"
    },
    "language_info": {
      "name": "python"
    }
  },
  "cells": [
    {
      "cell_type": "markdown",
      "metadata": {
        "id": "view-in-github",
        "colab_type": "text"
      },
      "source": [
        "<a href=\"https://colab.research.google.com/github/kingketan9/CloudComputingLabs/blob/main/Ass2.ipynb\" target=\"_parent\"><img src=\"https://colab.research.google.com/assets/colab-badge.svg\" alt=\"Open In Colab\"/></a>"
      ]
    },
    {
      "cell_type": "markdown",
      "source": [
        "1. Create a 10 x 10 array initialized with random numbers that lie between 0 and 10.\n",
        "Then compute the average of the array (there is a numpy function for this, np.mean()).\n"
      ],
      "metadata": {
        "id": "K4EdbQ_hqmc8"
      }
    },
    {
      "cell_type": "code",
      "execution_count": 15,
      "metadata": {
        "colab": {
          "base_uri": "https://localhost:8080/"
        },
        "id": "xuXuLCDBqNht",
        "outputId": "f370d594-257a-4605-f21a-1f3f8fcd8411"
      },
      "outputs": [
        {
          "output_type": "stream",
          "name": "stdout",
          "text": [
            "The array is : \n",
            " [[0.81245704 0.19611507 0.0484416  0.27042493 0.44857714 0.75716962\n",
            "  0.42046175 0.85735071 0.41443473 0.40450968]\n",
            " [0.64310692 0.03960726 0.07242141 0.55923561 0.32099921 0.75207157\n",
            "  0.07309514 0.50107423 0.67931502 0.12524217]\n",
            " [0.69396901 0.7662527  0.7783005  0.57211441 0.25030796 0.27437145\n",
            "  0.41777983 0.87082403 0.58818913 0.31015554]\n",
            " [0.38412743 0.42223043 0.99696041 0.45260666 0.63157957 0.30617835\n",
            "  0.43062705 0.18657348 0.79468555 0.25862467]\n",
            " [0.50010084 0.09744535 0.59421045 0.8530272  0.7999576  0.99479626\n",
            "  0.56729741 0.15876724 0.54989543 0.39023204]\n",
            " [0.34607635 0.63235071 0.69236927 0.79348698 0.53390004 0.31168298\n",
            "  0.63381844 0.76812863 0.01465722 0.13145957]\n",
            " [0.20943177 0.21836908 0.3680157  0.74448076 0.21911565 0.56889201\n",
            "  0.13233683 0.05918025 0.35409385 0.85486796]\n",
            " [0.1541278  0.95070037 0.29902285 0.09912612 0.65323233 0.41741706\n",
            "  0.56176628 0.04961519 0.43536222 0.78744971]\n",
            " [0.59314313 0.43167702 0.35576796 0.01930485 0.3727409  0.04804851\n",
            "  0.98315185 0.59229171 0.88692266 0.69961854]\n",
            " [0.09069659 0.97337806 0.24664816 0.20330528 0.14694137 0.428783\n",
            "  0.50574923 0.44535363 0.25747287 0.822707  ]]\n",
            "The average of the array is :  0.46386535111227617\n"
          ]
        }
      ],
      "source": [
        "import numpy as np\n",
        "\n",
        "arr = np.random.rand(10, 10)\n",
        "print(\"The array is : \\n\",arr)\n",
        "\n",
        "average = np.mean(arr)\n",
        "print(\"The average of the array is : \" ,average)"
      ]
    },
    {
      "cell_type": "markdown",
      "source": [
        "2. Create the array:\n",
        "\n",
        "   [[1, 6, 11],\n",
        "\n",
        "   [2, 7, 12],\n",
        "\n",
        "   [3, 8, 13],\n",
        "\n",
        "   [4, 9, 14],\n",
        "\n",
        "   [5, 10, 15]]\n",
        "\n",
        "   with out explicitly typing it in. \n",
        "\n",
        "   Now create a new array containing only its 2nd and 4th\n",
        "   rows"
      ],
      "metadata": {
        "id": "rJq7n1trqo9d"
      }
    },
    {
      "cell_type": "code",
      "source": [
        "arr = np.arange(1,16)\n",
        "arr1 = arr.reshape(3,5)\n",
        "arr2 = arr1.T\n",
        "print(\"The array is : \", arr2)\n",
        "\n",
        "print(\"\\n\")\n",
        "rows = [1,3]\n",
        "x = arr2[rows]\n",
        "print(x)"
      ],
      "metadata": {
        "colab": {
          "base_uri": "https://localhost:8080/"
        },
        "id": "P1ZoOmVWyj52",
        "outputId": "e0412f62-af12-48b2-ff18-e33e325c6a82"
      },
      "execution_count": 35,
      "outputs": [
        {
          "output_type": "stream",
          "name": "stdout",
          "text": [
            "The array is :  [[ 1  6 11]\n",
            " [ 2  7 12]\n",
            " [ 3  8 13]\n",
            " [ 4  9 14]\n",
            " [ 5 10 15]]\n",
            "\n",
            "\n",
            "[[ 2  7 12]\n",
            " [ 4  9 14]]\n"
          ]
        }
      ]
    },
    {
      "cell_type": "markdown",
      "source": [
        "3. Create a 2d array with 1 on the border and 0 on the inside, e.g., like:\n",
        "\n",
        " 1 1 1 1 1\n",
        "\n",
        " 1 0 0 0 1\n",
        "\n",
        " 1 0 0 0 1\n",
        "\n",
        " 1 1 1 1 1\n"
      ],
      "metadata": {
        "id": "hQ-_JMbaqydN"
      }
    },
    {
      "cell_type": "code",
      "source": [
        "import numpy as np\n",
        "\n",
        "array = np.ones((4, 4))\n",
        "array[1:-1, 1:-1] = 0\n",
        "\n",
        "print(array)"
      ],
      "metadata": {
        "colab": {
          "base_uri": "https://localhost:8080/"
        },
        "id": "bjIQ7qWrxtFs",
        "outputId": "001374ae-b812-453c-fb3a-9f27ce6fb091"
      },
      "execution_count": 21,
      "outputs": [
        {
          "output_type": "stream",
          "name": "stdout",
          "text": [
            "[[1. 1. 1. 1.]\n",
            " [1. 0. 0. 1.]\n",
            " [1. 0. 0. 1.]\n",
            " [1. 1. 1. 1.]]\n"
          ]
        }
      ]
    },
    {
      "cell_type": "markdown",
      "source": [
        "4. Create an array with angles in degrees 0, 15, 30, ... 90 (i.e., every 15 degrees up\n",
        "to 90).\n",
        "\n",
        "● Now create 3 new arrays with the sine, cosine, and tangent of the elements of the\n",
        "first array\n",
        "\n",
        "● Finally, calculate the inverse sine, inverse cosine, and inverse tangent the arrays\n",
        "above and compare to the original angles\n"
      ],
      "metadata": {
        "id": "ZVg3YMjzrDyf"
      }
    },
    {
      "cell_type": "code",
      "source": [
        "import numpy as np\n",
        "\n",
        "angles = np.arange(0, 91, 15)\n",
        "print(angles)\n",
        "\n",
        "sines = np.sin(np.deg2rad(angles))\n",
        "print(sines)\n",
        "\n",
        "cosines = np.cos(np.deg2rad(angles))\n",
        "print(cosines)\n",
        "\n",
        "tangents = np.tan(np.deg2rad(angles))\n",
        "print(tangents)\n",
        "\n",
        "inv_sines = np.rad2deg(np.arcsin(sines))\n",
        "print(inv_sines)\n",
        "\n",
        "inv_cosines = np.rad2deg(np.arccos(cosines))\n",
        "print(inv_cosines)\n",
        "\n",
        "inv_tangents = np.rad2deg(np.arctan(tangents))\n",
        "print(inv_tangents)"
      ],
      "metadata": {
        "colab": {
          "base_uri": "https://localhost:8080/"
        },
        "id": "RfE8nt0luXZ2",
        "outputId": "1a95c61a-9a6b-4922-d785-42f206d85a63"
      },
      "execution_count": 17,
      "outputs": [
        {
          "output_type": "stream",
          "name": "stdout",
          "text": [
            "[ 0 15 30 45 60 75 90]\n",
            "[0.         0.25881905 0.5        0.70710678 0.8660254  0.96592583\n",
            " 1.        ]\n",
            "[1.00000000e+00 9.65925826e-01 8.66025404e-01 7.07106781e-01\n",
            " 5.00000000e-01 2.58819045e-01 6.12323400e-17]\n",
            "[0.00000000e+00 2.67949192e-01 5.77350269e-01 1.00000000e+00\n",
            " 1.73205081e+00 3.73205081e+00 1.63312394e+16]\n",
            "[ 0. 15. 30. 45. 60. 75. 90.]\n",
            "[ 0. 15. 30. 45. 60. 75. 90.]\n",
            "[ 0. 15. 30. 45. 60. 75. 90.]\n"
          ]
        }
      ]
    },
    {
      "cell_type": "markdown",
      "source": [
        "5. Given the array:\n",
        "x = np.array([1, -1, 2, 5, 8, 4, 10, 12, 3])\n",
        "calculate the difference of each element with its neighbor.\n"
      ],
      "metadata": {
        "id": "9Vc6sgCdrFE1"
      }
    },
    {
      "cell_type": "code",
      "source": [
        "import numpy as np\n",
        "x = np.array([1, -1, 2, 5, 8, 4, 10, 12, 3])\n",
        "diff = np.diff(x)\n",
        "print(\"The difference of each element with its neighbor : \", diff)"
      ],
      "metadata": {
        "colab": {
          "base_uri": "https://localhost:8080/"
        },
        "id": "hR8FNe9awNEx",
        "outputId": "cf8f6101-922f-4403-d186-86895e289239"
      },
      "execution_count": 18,
      "outputs": [
        {
          "output_type": "stream",
          "name": "stdout",
          "text": [
            "The difference of each element with its neighbor :  [-2  3  3  3 -4  6  2 -9]\n"
          ]
        }
      ]
    },
    {
      "cell_type": "markdown",
      "source": [
        "6. Write a function to calculate the standard deviation for an input array, a"
      ],
      "metadata": {
        "id": "GMHll7dbrK9v"
      }
    },
    {
      "cell_type": "code",
      "source": [
        "import numpy as np\n",
        "\n",
        "def std(a):\n",
        "    return np.std(a)\n",
        "\n",
        "arr = [1,2,3,4,5,6,7,8,9]\n",
        "print(\"The standard deviation of the array is : \", std(arr))"
      ],
      "metadata": {
        "colab": {
          "base_uri": "https://localhost:8080/"
        },
        "id": "3-D1TMy3wnLl",
        "outputId": "03abff3e-d1d5-482e-8bc9-9ee1b9062b9d"
      },
      "execution_count": 19,
      "outputs": [
        {
          "output_type": "stream",
          "name": "stdout",
          "text": [
            "The standard deviation of the array is :  2.581988897471611\n"
          ]
        }
      ]
    }
  ]
}